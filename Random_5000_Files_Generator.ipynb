{
 "cells": [
  {
   "cell_type": "markdown",
   "id": "9ee31842",
   "metadata": {},
   "source": [
    "# RANDOM SAMPLING OF 5000 Files"
   ]
  },
  {
   "cell_type": "code",
   "execution_count": 1,
   "id": "b495532c",
   "metadata": {},
   "outputs": [
    {
     "name": "stdout",
     "output_type": "stream",
     "text": [
      "                           PSMId     score   q-value  posterior_error_prob  \\\n",
      "0  366_6__H_Koll_1.7788.7788.2_1  0.498612  0.000351              0.011317   \n",
      "1  366_6__H_Koll_1.6984.6984.3_1  0.452610  0.000523              0.015460   \n",
      "2  366_6__H_Koll_1.8694.8694.4_1  0.444234  0.000694              0.016360   \n",
      "3  366_6__H_Koll_1.6746.6746.2_1  0.437302  0.000866              0.017144   \n",
      "4  366_6__H_Koll_1.3350.3350.3_1  0.430924  0.001007              0.017897   \n",
      "\n",
      "                              peptide  \\\n",
      "0                         R.IPILVAR.M   \n",
      "1             K.DAITSNLEITK[6.0201].F   \n",
      "2           R.WHHNELVSMNQYLNALHHNTK.I   \n",
      "3                      K.LGALEEELAR.L   \n",
      "4  R.VC[57.0215]SALDLGEAK[6.0201]RR.F   \n",
      "\n",
      "                                       proteinIds  \n",
      "0                       rev_sp|Q17RN3|FA98C_HUMAN  \n",
      "1  rev_sp|Q9Y6V0-6|PCLO_;rev_sp|Q9Y6V0|PCLO_HUMAN  \n",
      "2                       rev_sp|Q9NP56|PDE7B_HUMAN  \n",
      "3  rev_sp|O95347-2|SMC2_;rev_sp|O95347|SMC2_HUMAN  \n",
      "4                       rev_sp|Q8NHQ9|DDX55_HUMAN  \n",
      "                           PSMId    score   q-value  posterior_error_prob  \\\n",
      "0  366_6__H_Koll_1.6030.6030.2_1  1.18504  0.000182                0.0001   \n",
      "1  366_6__H_Koll_1.6233.6233.2_1  1.18504  0.000182                0.0001   \n",
      "2  366_6__H_Koll_1.7837.7837.2_1  1.18493  0.000182                0.0001   \n",
      "3  366_6__H_Koll_1.4127.4127.2_1  1.18483  0.000182                0.0001   \n",
      "4  366_6__H_Koll_1.9802.9802.2_1  1.18468  0.000182                0.0001   \n",
      "\n",
      "                                peptide  \\\n",
      "0     K.DLEEDHAC[57.0215]IPIK[6.0201].K   \n",
      "1                   R.TEMEDLMSSKDDVGK.S   \n",
      "2                   K.HLEINPDHPIVETLR.Q   \n",
      "3                      R.IITEGFEAAKEK.A   \n",
      "4  R.GQFSTDELVAEVEK[6.0201]R[10.0083].N   \n",
      "\n",
      "                                          proteinIds  \n",
      "0                                sp|P13639|EF2_HUMAN  \n",
      "1             sp|P35579-2|MYH9_;sp|P35579|MYH9_HUMAN  \n",
      "2                              sp|P08238|HS90B_HUMAN  \n",
      "3             sp|P40227-2|TCPZ_;sp|P40227|TCPZ_HUMAN  \n",
      "4  sp|P53675-2|CLH2_;sp|P53675|CLH2_;sp|Q00610-2|...  \n"
     ]
    }
   ],
   "source": [
    "import pandas as pd\n",
    "import numpy as np\n",
    "\n",
    "# Define a function to extract the raw file name\n",
    "def extract_raw_file_name(filename):\n",
    "    return filename.split('.')[0]\n",
    "\n",
    "# Read in the target CSV file\n",
    "target = pd.read_csv('subset_750_target_FDR_001_psm.tsv', sep=',')\n",
    "\n",
    "# Apply the function to the PSMId column and create a new column called 'rawfile'\n",
    "target['rawfile'] = target['PSMId'].apply(extract_raw_file_name)\n",
    "\n",
    "# Get the unique rawfile names\n",
    "unique_rawfiles = target['rawfile'].unique()\n",
    "\n",
    "# Randomly select 1000 rawfile names\n",
    "selected_rawfiles = np.random.choice(unique_rawfiles, size=5000, replace=False)\n",
    "\n",
    "# Create a subset of the target data with the selected raw files\n",
    "target_subset = target[target['rawfile'].isin(selected_rawfiles)]\n",
    "target_subset = target_subset.drop(columns=['rawfile'])\n",
    "\n",
    "# Read in the decoy CSV file\n",
    "decoy = pd.read_csv('subset_750_decoy_FDR_001_psm.tsv', sep=',')\n",
    "\n",
    "# Apply the function to the PSMId column and create a new column called 'rawfile'\n",
    "decoy['rawfile'] = decoy['PSMId'].apply(extract_raw_file_name)\n",
    "\n",
    "# Create a subset of the decoy data with the selected raw files\n",
    "decoy_subset = decoy[decoy['rawfile'].isin(selected_rawfiles)]\n",
    "decoy_subset = decoy_subset.drop(columns=['rawfile'])\n",
    "\n",
    "#printing to double check the same raw files are mapped. \n",
    "print(decoy_subset.head())\n",
    "print(target_subset.head())\n",
    "\n",
    "\n",
    "# Write the target subset to a new CSV file\n",
    "target_subset.to_csv(f'subset_5000_target_random_rawfiles.tsv', index=False)\n",
    "\n",
    "# Write the decoy subset to a new CSV file\n",
    "decoy_subset.to_csv(f'subset_5000_decoy_random_rawfiles.tsv', index=False)"
   ]
  },
  {
   "cell_type": "code",
   "execution_count": null,
   "id": "4ca72162",
   "metadata": {},
   "outputs": [],
   "source": []
  }
 ],
 "metadata": {
  "kernelspec": {
   "display_name": "Python 3 (ipykernel)",
   "language": "python",
   "name": "python3"
  },
  "language_info": {
   "codemirror_mode": {
    "name": "ipython",
    "version": 3
   },
   "file_extension": ".py",
   "mimetype": "text/x-python",
   "name": "python",
   "nbconvert_exporter": "python",
   "pygments_lexer": "ipython3",
   "version": "3.10.9"
  }
 },
 "nbformat": 4,
 "nbformat_minor": 5
}
