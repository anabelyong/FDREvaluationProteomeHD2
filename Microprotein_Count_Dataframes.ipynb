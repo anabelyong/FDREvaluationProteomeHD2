{
 "cells": [
  {
   "cell_type": "code",
   "execution_count": null,
   "id": "264ca8c8",
   "metadata": {},
   "outputs": [],
   "source": [
    "#investigating the different microproteins at 1% FDR at 22796 raw files for pgFDR, cFDR, and ppFDR"
   ]
  },
  {
   "cell_type": "markdown",
   "id": "d525a07b",
   "metadata": {},
   "source": [
    "# pI microproteins and decoys only "
   ]
  },
  {
   "cell_type": "code",
   "execution_count": 9,
   "id": "f3756b43",
   "metadata": {},
   "outputs": [
    {
     "name": "stdout",
     "output_type": "stream",
     "text": [
      "        Q-value Protein Type          Protein Uniprot          Protein Label\n",
      "9667   0.000081           pI  c11riboseqorf4_HUMAN;sR  single_ribo2536_HUMAN\n",
      "10029  0.000081           pI     c9riboseqorf74_HUMAN                    NaN\n",
      "12188  0.000158           pI    c2riboseqorf167_HUMAN                    NaN\n",
      "13617  0.000501           pI   c17riboseqorf149_HUMAN                    NaN\n",
      "13850  0.000696      REV__pI          c2riboseqorf145                    NaN\n",
      "14862  0.001184           pI    c7riboseqorf142_HUMAN                    NaN\n",
      "15130  0.001421           pI   c16riboseqorf104_HUMAN                    NaN\n",
      "15421  0.001780           pI   c11riboseqorf118_HUMAN                    NaN\n",
      "15541  0.002209      REV__pI         c19riboseqorf132                    NaN\n",
      "15629  0.002822           pI     c1riboseqorf94_HUMAN                    NaN\n",
      "15757  0.003174           pI    c1riboseqorf298_HUMAN                    NaN\n",
      "15855  0.003465           pI     c8riboseqorf15_HUMAN                    NaN\n",
      "16150  0.004864      REV__pI         c11riboseqorf122                    NaN\n",
      "16164  0.004975           pI    c12riboseqorf80_HUMAN                    NaN\n",
      "16216  0.005087           pI     c1riboseqorf99_HUMAN                    NaN\n",
      "16324  0.005657      REV__pI          c7riboseqorf163                    NaN\n",
      "16351  0.005891      REV__pI          c1riboseqorf172                    NaN\n",
      "16377  0.006123      REV__pI          c18riboseqorf33                    NaN\n",
      "16488  0.006800           pI    c8riboseqorf100_HUMAN                    NaN\n",
      "16490  0.006800           pI   c14riboseqorf117_HUMAN                    NaN\n",
      "16558  0.007370           pI     c5riboseqorf65_HUMAN                    NaN\n",
      "16627  0.008413      REV__pI          c16riboseqorf81                    NaN\n",
      "16675  0.008804           pI     c12riboseqorf1_HUMAN                    NaN\n",
      "16703  0.009142           pI    c9riboseqorf108_HUMAN                    NaN\n",
      "16728  0.009311           pI   c3riboseqorf5_HUMAN;pI    c3riboseqorf2_HUMAN\n",
      "16750  0.009709      REV__pI         c16riboseqorf118                    NaN\n",
      "16759  0.009874      REV__pI          c14riboseqorf54                    NaN\n",
      "16773  0.009928           pI     c8riboseqorf32_HUMAN                    NaN\n"
     ]
    }
   ],
   "source": [
    "import pandas as pd\n",
    "import numpy as np \n",
    "\n",
    "# Load the CSV file into a pandas DataFrame\n",
    "df= pd.read_csv('/Users/anabelyong/miniconda3/lib/python3.10/site-packages/jupyterlab/Subset750RawfilesCut/proteinGroups_methods_files/SeparateIDs_proteinGroups_methods_files/proteinGroups_picked_protein_group_no_remap_22796.csv')\n",
    "\n",
    "# Filter the DataFrame to only include rows with Protein Type containing 'pI', 'sR', and 'nC'\n",
    "filtered_df = df[df['Protein Type'].str.contains('pI')]\n",
    "\n",
    "# Filter the DataFrame to only include rows with q-value less than or equal to 0.01\n",
    "filtered_df = filtered_df[filtered_df['Q-value'] <= 0.01]\n",
    "\n",
    "# Print the filtered DataFrame\n",
    "print(filtered_df)"
   ]
  },
  {
   "cell_type": "code",
   "execution_count": 10,
   "id": "6369b1d1",
   "metadata": {},
   "outputs": [
    {
     "name": "stdout",
     "output_type": "stream",
     "text": [
      "        Q-value Protein Type         Protein Uniprot Protein Label\n",
      "3376   0.000117           pI    c9riboseqorf74_HUMAN           NaN\n",
      "8244   0.000117           pI    c11riboseqorf4_HUMAN           NaN\n",
      "9892   0.000193           pI   c2riboseqorf167_HUMAN           NaN\n",
      "11292  0.000789           pI  c17riboseqorf149_HUMAN           NaN\n",
      "11525  0.001040      REV__pI         c2riboseqorf145           NaN\n",
      "12526  0.002480           pI   c7riboseqorf142_HUMAN           NaN\n",
      "12800  0.003673           pI  c16riboseqorf104_HUMAN           NaN\n",
      "13109  0.004980           pI  c11riboseqorf118_HUMAN           NaN\n",
      "13230  0.005928      REV__pI        c19riboseqorf132           NaN\n",
      "13325  0.007100           pI    c1riboseqorf94_HUMAN           NaN\n",
      "13470  0.008682           pI   c1riboseqorf298_HUMAN           NaN\n",
      "13585  0.009419           pI    c8riboseqorf15_HUMAN           NaN\n"
     ]
    }
   ],
   "source": [
    "# Load the CSV file into a pandas DataFrame\n",
    "df= pd.read_csv('/Users/anabelyong/miniconda3/lib/python3.10/site-packages/jupyterlab/Subset750RawfilesCut/proteinGroups_methods_files/SeparateIDs_proteinGroups_methods_files/proteinGroups_classic_grouping_no_remap_22796.csv')\n",
    "\n",
    "# Filter the DataFrame to only include rows with Protein Type containing 'pI', 'sR', and 'nC'\n",
    "filtered_df = df[df['Protein Type'].str.contains('pI')]\n",
    "\n",
    "# Filter the DataFrame to only include rows with q-value less than or equal to 0.01\n",
    "filtered_df = filtered_df[filtered_df['Q-value'] <= 0.01]\n",
    "\n",
    "# Print the filtered DataFrame\n",
    "print(filtered_df)"
   ]
  },
  {
   "cell_type": "code",
   "execution_count": 11,
   "id": "387e3460",
   "metadata": {},
   "outputs": [
    {
     "name": "stdout",
     "output_type": "stream",
     "text": [
      "        Q-value Protein Type         Protein Uniprot Protein Label\n",
      "4023   0.000111           pI    c9riboseqorf74_HUMAN           NaN\n",
      "5268   0.000111           pI    c11riboseqorf4_HUMAN           NaN\n",
      "8428   0.000111           pI   c2riboseqorf167_HUMAN           NaN\n",
      "9710   0.000407           pI  c17riboseqorf149_HUMAN           NaN\n",
      "9926   0.000690      REV__pI         c2riboseqorf145           NaN\n",
      "10835  0.001190           pI   c7riboseqorf142_HUMAN           NaN\n",
      "11062  0.001439           pI  c16riboseqorf104_HUMAN           NaN\n",
      "11342  0.001854           pI  c11riboseqorf118_HUMAN           NaN\n",
      "11455  0.002274      REV__pI        c19riboseqorf132           NaN\n",
      "11535  0.003029           pI    c1riboseqorf94_HUMAN           NaN\n",
      "11650  0.003417           pI   c1riboseqorf298_HUMAN           NaN\n",
      "11758  0.003574           pI    c8riboseqorf15_HUMAN           NaN\n",
      "12033  0.005093      REV__pI        c11riboseqorf122           NaN\n",
      "12048  0.005245           pI   c12riboseqorf80_HUMAN           NaN\n",
      "12095  0.005316           pI    c1riboseqorf99_HUMAN           NaN\n",
      "12188  0.006018      REV__pI         c7riboseqorf163           NaN\n",
      "12215  0.006259      REV__pI         c1riboseqorf172           NaN\n",
      "12237  0.006578      REV__pI         c18riboseqorf33           NaN\n",
      "12341  0.007343           pI   c8riboseqorf100_HUMAN           NaN\n",
      "12344  0.007343           pI  c14riboseqorf117_HUMAN           NaN\n",
      "12406  0.007797           pI    c5riboseqorf65_HUMAN           NaN\n",
      "12468  0.008980      REV__pI         c16riboseqorf81           NaN\n",
      "12520  0.009673           pI    c12riboseqorf1_HUMAN           NaN\n",
      "12552  0.009968           pI   c9riboseqorf108_HUMAN           NaN\n"
     ]
    }
   ],
   "source": [
    "# Load the CSV file into a pandas DataFrame\n",
    "df= pd.read_csv('/Users/anabelyong/miniconda3/lib/python3.10/site-packages/jupyterlab/Subset750RawfilesCut/proteinGroups_methods_files/SeparateIDs_proteinGroups_methods_files/proteinGroups_savitski_no_remap_22796.csv')\n",
    "\n",
    "# Filter the DataFrame to only include rows with Protein Type containing 'pI', 'sR', and 'nC'\n",
    "filtered_df = df[df['Protein Type'].str.contains('pI')]\n",
    "\n",
    "# Filter the DataFrame to only include rows with q-value less than or equal to 0.01\n",
    "filtered_df = filtered_df[filtered_df['Q-value'] <= 0.01]\n",
    "\n",
    "# Print the filtered DataFrame\n",
    "print(filtered_df)"
   ]
  },
  {
   "cell_type": "code",
   "execution_count": null,
   "id": "68566efb",
   "metadata": {},
   "outputs": [],
   "source": [
    "#sR microproteins and their decoys"
   ]
  },
  {
   "cell_type": "code",
   "execution_count": 14,
   "id": "b3223cfd",
   "metadata": {},
   "outputs": [
    {
     "name": "stdout",
     "output_type": "stream",
     "text": [
      "        Q-value Protein Type     Protein Uniprot Protein Label\n",
      "10300  0.000193           nC  near_cogn_32_HUMAN           NaN\n"
     ]
    }
   ],
   "source": [
    "# Load the CSV file into a pandas DataFrame\n",
    "df= pd.read_csv('/Users/anabelyong/miniconda3/lib/python3.10/site-packages/jupyterlab/Subset750RawfilesCut/proteinGroups_methods_files/SeparateIDs_proteinGroups_methods_files/proteinGroups_classic_grouping_no_remap_22796.csv')\n",
    "\n",
    "# Filter the DataFrame to only include rows with Protein Type containing 'pI', 'sR', and 'nC'\n",
    "filtered_df = df[df['Protein Type'].str.contains('nC')]\n",
    "\n",
    "# Filter the DataFrame to only include rows with q-value less than or equal to 0.01\n",
    "filtered_df = filtered_df[filtered_df['Q-value'] <= 0.01]\n",
    "\n",
    "# Print the filtered DataFrame\n",
    "print(filtered_df)"
   ]
  },
  {
   "cell_type": "code",
   "execution_count": 15,
   "id": "958a7773",
   "metadata": {},
   "outputs": [
    {
     "name": "stdout",
     "output_type": "stream",
     "text": [
      "        Q-value Protein Type     Protein Uniprot Protein Label\n",
      "8798   0.000111           nC  near_cogn_32_HUMAN           NaN\n",
      "12264  0.006807      REV__nC       near_cogn_216           NaN\n",
      "12464  0.008820           nC   near_cogn_6_HUMAN           NaN\n"
     ]
    }
   ],
   "source": [
    "# Load the CSV file into a pandas DataFrame\n",
    "df= pd.read_csv('/Users/anabelyong/miniconda3/lib/python3.10/site-packages/jupyterlab/Subset750RawfilesCut/proteinGroups_methods_files/SeparateIDs_proteinGroups_methods_files/proteinGroups_savitski_no_remap_22796.csv')\n",
    "\n",
    "# Filter the DataFrame to only include rows with Protein Type containing 'pI', 'sR', and 'nC'\n",
    "filtered_df = df[df['Protein Type'].str.contains('nC')]\n",
    "\n",
    "# Filter the DataFrame to only include rows with q-value less than or equal to 0.01\n",
    "filtered_df = filtered_df[filtered_df['Q-value'] <= 0.01]\n",
    "\n",
    "# Print the filtered DataFrame\n",
    "print(filtered_df)"
   ]
  },
  {
   "cell_type": "code",
   "execution_count": 16,
   "id": "24ab449f",
   "metadata": {},
   "outputs": [
    {
     "name": "stdout",
     "output_type": "stream",
     "text": [
      "        Q-value Protein Type     Protein Uniprot Protein Label\n",
      "12624  0.000230           nC  near_cogn_32_HUMAN           NaN\n",
      "16411  0.006406      REV__nC       near_cogn_216           NaN\n",
      "16622  0.008237           nC   near_cogn_6_HUMAN           NaN\n"
     ]
    }
   ],
   "source": [
    "# Load the CSV file into a pandas DataFrame\n",
    "df= pd.read_csv('/Users/anabelyong/miniconda3/lib/python3.10/site-packages/jupyterlab/Subset750RawfilesCut/proteinGroups_methods_files/SeparateIDs_proteinGroups_methods_files/proteinGroups_picked_protein_group_no_remap_22796.csv')\n",
    "\n",
    "# Filter the DataFrame to only include rows with Protein Type containing 'pI', 'sR', and 'nC'\n",
    "filtered_df = df[df['Protein Type'].str.contains('nC')]\n",
    "\n",
    "# Filter the DataFrame to only include rows with q-value less than or equal to 0.01\n",
    "filtered_df = filtered_df[filtered_df['Q-value'] <= 0.01]\n",
    "\n",
    "# Print the filtered DataFrame\n",
    "print(filtered_df)"
   ]
  },
  {
   "cell_type": "code",
   "execution_count": null,
   "id": "98f75a93",
   "metadata": {},
   "outputs": [],
   "source": [
    "#sR microproteins and their decoys"
   ]
  },
  {
   "cell_type": "code",
   "execution_count": 17,
   "id": "2864e91d",
   "metadata": {},
   "outputs": [
    {
     "name": "stdout",
     "output_type": "stream",
     "text": [
      "        Q-value Protein Type        Protein Uniprot Protein Label\n",
      "2419   0.000117           sR  single_ribo2506_HUMAN           NaN\n",
      "10879  0.000539           sR  single_ribo2691_HUMAN           NaN\n",
      "12113  0.001653           sR  single_ribo3540_HUMAN           NaN\n",
      "12156  0.001726           sR  single_ribo2603_HUMAN           NaN\n",
      "12449  0.002334           sR  single_ribo3004_HUMAN           NaN\n",
      "12537  0.002547           sR  single_ribo1737_HUMAN           NaN\n",
      "13233  0.006004      REV__sR        single_ribo2365           NaN\n",
      "13235  0.006078      REV__sR        single_ribo1485           NaN\n",
      "13291  0.006891           sR   single_ribo355_HUMAN           NaN\n",
      "13574  0.009290           sR  single_ribo2945_HUMAN           NaN\n",
      "13644  0.009987      REV__sR        single_ribo1927           NaN\n"
     ]
    }
   ],
   "source": [
    "# Load the CSV file into a pandas DataFrame\n",
    "df= pd.read_csv('/Users/anabelyong/miniconda3/lib/python3.10/site-packages/jupyterlab/Subset750RawfilesCut/proteinGroups_methods_files/SeparateIDs_proteinGroups_methods_files/proteinGroups_classic_grouping_no_remap_22796.csv')\n",
    "\n",
    "# Filter the DataFrame to only include rows with Protein Type containing 'pI', 'sR', and 'nC'\n",
    "filtered_df = df[df['Protein Type'].str.contains('sR')]\n",
    "\n",
    "# Filter the DataFrame to only include rows with q-value less than or equal to 0.01\n",
    "filtered_df = filtered_df[filtered_df['Q-value'] <= 0.01]\n",
    "\n",
    "# Print the filtered DataFrame\n",
    "print(filtered_df)"
   ]
  },
  {
   "cell_type": "code",
   "execution_count": 18,
   "id": "f66933f1",
   "metadata": {},
   "outputs": [
    {
     "name": "stdout",
     "output_type": "stream",
     "text": [
      "        Q-value Protein Type        Protein Uniprot Protein Label\n",
      "3539   0.000111           sR  single_ribo2506_HUMAN           NaN\n",
      "9325   0.000309           sR  single_ribo2691_HUMAN           NaN\n",
      "10461  0.000939           sR  single_ribo3540_HUMAN           NaN\n",
      "10499  0.000939           sR  single_ribo2603_HUMAN           NaN\n",
      "10766  0.001109           sR  single_ribo3004_HUMAN           NaN\n",
      "10845  0.001190           sR  single_ribo1737_HUMAN           NaN\n",
      "11458  0.002361      REV__sR        single_ribo2365           NaN\n",
      "11459  0.002448      REV__sR        single_ribo1485           NaN\n",
      "11506  0.002875           sR   single_ribo355_HUMAN           NaN\n",
      "11747  0.003500           sR  single_ribo2945_HUMAN           NaN\n",
      "11804  0.003736      REV__sR        single_ribo1927           NaN\n",
      "11833  0.003901      REV__sR         single_ribo709           NaN\n",
      "11852  0.004143      REV__sR        single_ribo4149           NaN\n",
      "11993  0.004935      REV__sR         single_ribo507           NaN\n",
      "12100  0.005400      REV__sR         single_ribo719           NaN\n",
      "12112  0.005561           sR  single_ribo3103_HUMAN           NaN\n",
      "12167  0.005780      REV__sR        single_ribo3173           NaN\n",
      "12263  0.006730           sR  single_ribo2927_HUMAN           NaN\n",
      "12342  0.007343           sR   single_ribo560_HUMAN           NaN\n",
      "12353  0.007413           sR  single_ribo2030_HUMAN           NaN\n",
      "12358  0.007413           sR  single_ribo2687_HUMAN           NaN\n",
      "12407  0.007878      REV__sR         single_ribo302           NaN\n",
      "12408  0.007959      REV__sR        single_ribo1530           NaN\n",
      "12423  0.008194           sR  single_ribo2233_HUMAN           NaN\n",
      "12442  0.008671      REV__sR         single_ribo192           NaN\n",
      "12471  0.009136      REV__sR        single_ribo2214           NaN\n",
      "12472  0.009136           sR  single_ribo2906_HUMAN           NaN\n",
      "12480  0.009214           sR  single_ribo3536_HUMAN           NaN\n",
      "12549  0.009968           sR  single_ribo3735_HUMAN           NaN\n",
      "12554  0.009968           sR  single_ribo1190_HUMAN           NaN\n"
     ]
    }
   ],
   "source": [
    "# Load the CSV file into a pandas DataFrame\n",
    "df= pd.read_csv('/Users/anabelyong/miniconda3/lib/python3.10/site-packages/jupyterlab/Subset750RawfilesCut/proteinGroups_methods_files/SeparateIDs_proteinGroups_methods_files/proteinGroups_savitski_no_remap_22796.csv')\n",
    "\n",
    "# Filter the DataFrame to only include rows with Protein Type containing 'pI', 'sR', and 'nC'\n",
    "filtered_df = df[df['Protein Type'].str.contains('sR')]\n",
    "\n",
    "# Filter the DataFrame to only include rows with q-value less than or equal to 0.01\n",
    "filtered_df = filtered_df[filtered_df['Q-value'] <= 0.01]\n",
    "\n",
    "# Print the filtered DataFrame\n",
    "print(filtered_df)"
   ]
  },
  {
   "cell_type": "code",
   "execution_count": 19,
   "id": "cd746f5e",
   "metadata": {},
   "outputs": [
    {
     "name": "stdout",
     "output_type": "stream",
     "text": [
      "        Q-value Protein Type           Protein Uniprot  \\\n",
      "8464   0.000081           sR     single_ribo2506_HUMAN   \n",
      "13218  0.000433           sR     single_ribo2691_HUMAN   \n",
      "14457  0.000943           sR     single_ribo3540_HUMAN   \n",
      "14500  0.000943           sR     single_ribo2603_HUMAN   \n",
      "14785  0.001122           sR     single_ribo3004_HUMAN   \n",
      "14870  0.001184           sR     single_ribo1737_HUMAN   \n",
      "15545  0.002272      REV__sR           single_ribo2365   \n",
      "15547  0.002332      REV__sR           single_ribo1485   \n",
      "15599  0.002641           sR      single_ribo355_HUMAN   \n",
      "15846  0.003405           sR     single_ribo2945_HUMAN   \n",
      "15910  0.003697      REV__sR           single_ribo1927   \n",
      "15945  0.003817      REV__sR            single_ribo709   \n",
      "15961  0.004054      REV__sR           single_ribo4149   \n",
      "16109  0.004744      REV__sR            single_ribo507   \n",
      "16220  0.005146      REV__sR            single_ribo719   \n",
      "16232  0.005252           sR     single_ribo3103_HUMAN   \n",
      "16288  0.005367      REV__sR           single_ribo3173   \n",
      "16410  0.006352           sR     single_ribo2927_HUMAN   \n",
      "16489  0.006800           sR      single_ribo560_HUMAN   \n",
      "16501  0.006910           sR     single_ribo2030_HUMAN   \n",
      "16508  0.006910           sR     single_ribo2687_HUMAN   \n",
      "16559  0.007429      REV__sR            single_ribo302   \n",
      "16560  0.007489      REV__sR           single_ribo1530   \n",
      "16577  0.007720           sR     single_ribo2233_HUMAN   \n",
      "16597  0.008128      REV__sR            single_ribo192   \n",
      "16626  0.008355           sR  single_ribo1273_HUMAN;pI   \n",
      "16630  0.008468      REV__sR           single_ribo2214   \n",
      "16631  0.008468           sR     single_ribo2906_HUMAN   \n",
      "16640  0.008524           sR     single_ribo3536_HUMAN   \n",
      "16701  0.009142           sR     single_ribo3735_HUMAN   \n",
      "16706  0.009142           sR     single_ribo1190_HUMAN   \n",
      "16713  0.009199           sR     single_ribo1637_HUMAN   \n",
      "16727  0.009311           sR     single_ribo3326_HUMAN   \n",
      "16761  0.009874           sR     single_ribo4056_HUMAN   \n",
      "\n",
      "                                      Protein Label  \n",
      "8464                                            NaN  \n",
      "13218                                           NaN  \n",
      "14457                                           NaN  \n",
      "14500                                           NaN  \n",
      "14785                                           NaN  \n",
      "14870                                           NaN  \n",
      "15545                                           NaN  \n",
      "15547                                           NaN  \n",
      "15599                                           NaN  \n",
      "15846                                           NaN  \n",
      "15910                                           NaN  \n",
      "15945                                           NaN  \n",
      "15961                                           NaN  \n",
      "16109                                           NaN  \n",
      "16220                                           NaN  \n",
      "16232                                           NaN  \n",
      "16288                                           NaN  \n",
      "16410                                           NaN  \n",
      "16489                                           NaN  \n",
      "16501                                           NaN  \n",
      "16508                                           NaN  \n",
      "16559                                           NaN  \n",
      "16560                                           NaN  \n",
      "16577                                           NaN  \n",
      "16597                                           NaN  \n",
      "16626  c5riboseqorf84_HUMAN;pI|c5riboseqorf83_HUMAN  \n",
      "16630                                           NaN  \n",
      "16631                                           NaN  \n",
      "16640                                           NaN  \n",
      "16701                                           NaN  \n",
      "16706                                           NaN  \n",
      "16713                                           NaN  \n",
      "16727                                           NaN  \n",
      "16761                                           NaN  \n"
     ]
    }
   ],
   "source": [
    "# Load the CSV file into a pandas DataFrame\n",
    "df= pd.read_csv('/Users/anabelyong/miniconda3/lib/python3.10/site-packages/jupyterlab/Subset750RawfilesCut/proteinGroups_methods_files/SeparateIDs_proteinGroups_methods_files/proteinGroups_picked_protein_group_no_remap_22796.csv')\n",
    "\n",
    "# Filter the DataFrame to only include rows with Protein Type containing 'pI', 'sR', and 'nC'\n",
    "filtered_df = df[df['Protein Type'].str.contains('sR')]\n",
    "\n",
    "# Filter the DataFrame to only include rows with q-value less than or equal to 0.01\n",
    "filtered_df = filtered_df[filtered_df['Q-value'] <= 0.01]\n",
    "\n",
    "# Print the filtered DataFrame\n",
    "print(filtered_df)"
   ]
  }
 ],
 "metadata": {
  "kernelspec": {
   "display_name": "Python 3 (ipykernel)",
   "language": "python",
   "name": "python3"
  },
  "language_info": {
   "codemirror_mode": {
    "name": "ipython",
    "version": 3
   },
   "file_extension": ".py",
   "mimetype": "text/x-python",
   "name": "python",
   "nbconvert_exporter": "python",
   "pygments_lexer": "ipython3",
   "version": "3.10.9"
  }
 },
 "nbformat": 4,
 "nbformat_minor": 5
}
